{
 "cells": [
  {
   "cell_type": "markdown",
   "id": "ef9fcc1e-3196-40f0-b128-98495e759c55",
   "metadata": {},
   "source": [
    "# MINI PROJECT 1: Data Ingestion and Wrangling\n",
    "\n",
    "Velkommen til mini-projektet, hvor der arbejdes med data ingestion, data wrangling og visualisering fra **CSV**, **JSON** og **TXT** filer."
   ]
  },
  {
   "cell_type": "markdown",
   "id": "da24aa6b-608b-46ff-8d24-742177a00f7c",
   "metadata": {},
   "source": [
    "Laver en celle her i starten til at importere de nødvendige biblioteker til hele programmet."
   ]
  },
  {
   "cell_type": "code",
   "execution_count": 3,
   "id": "455de042-d2c6-424e-a769-0d63cfe9e65d",
   "metadata": {},
   "outputs": [],
   "source": [
    "import pandas as pd\n",
    "import matplotlib.pyplot as plt\n",
    "import json"
   ]
  },
  {
   "cell_type": "markdown",
   "id": "9ea6a471-1676-4526-b364-dead3963c893",
   "metadata": {},
   "source": [
    "# Indlæsning af data\n",
    "\n",
    "Vi henter og indlæser data fra tre forskellige filtyper."
   ]
  },
  {
   "cell_type": "markdown",
   "id": "37a9c1e8-5206-453e-9481-e58c9e846102",
   "metadata": {},
   "source": [
    "## Henting og indlæsning af CSV"
   ]
  },
  {
   "cell_type": "code",
   "execution_count": 6,
   "id": "45138b8e-8f61-4616-afa1-a3fa9904443f",
   "metadata": {},
   "outputs": [
    {
     "name": "stdout",
     "output_type": "stream",
     "text": [
      "  Country Name Country Code  Year    Value\n",
      "0        Aruba          ABW  1960  54922.0\n",
      "1        Aruba          ABW  1961  55578.0\n",
      "2        Aruba          ABW  1962  56320.0\n",
      "3        Aruba          ABW  1963  57002.0\n",
      "4        Aruba          ABW  1964  57619.0\n"
     ]
    }
   ],
   "source": [
    "# Henter CSV-data fra URL og sætter ind i en DataFrame\n",
    "csv_url = \"https://raw.githubusercontent.com/datasets/population/master/data/population.csv\"\n",
    "df_csv = pd.read_csv(csv_url)\n",
    "\n",
    "# Viser de første 5 rækker af de oprindelige data\n",
    "print(df_csv.head())"
   ]
  },
  {
   "cell_type": "markdown",
   "id": "11d429c7-0146-4372-b494-c6cdde695283",
   "metadata": {},
   "source": [
    "## Henting og indlæsning af JSON\n"
   ]
  },
  {
   "cell_type": "code",
   "execution_count": 8,
   "id": "677b1186-c448-4998-8b05-29ae98205172",
   "metadata": {},
   "outputs": [
    {
     "name": "stdout",
     "output_type": "stream",
     "text": [
      "   postId  id                                       name  \\\n",
      "0       1   1               id labore ex et quam laborum   \n",
      "1       1   2  quo vero reiciendis velit similique earum   \n",
      "2       1   3              odio adipisci rerum aut animi   \n",
      "3       1   4                             alias odio sit   \n",
      "4       1   5      vero eaque aliquid doloribus et culpa   \n",
      "\n",
      "                    email                                               body  \n",
      "0      Eliseo@gardner.biz  laudantium enim quasi est quidem magnam volupt...  \n",
      "1  Jayne_Kuhic@sydney.com  est natus enim nihil est dolore omnis voluptat...  \n",
      "2     Nikita@garfield.biz  quia molestiae reprehenderit quasi aspernatur\\...  \n",
      "3           Lew@alysha.tv  non et atque\\noccaecati deserunt quas accusant...  \n",
      "4       Hayden@althea.biz  harum non quasi et ratione\\ntempore iure ex vo...  \n"
     ]
    }
   ],
   "source": [
    "# Henter JSON-data fra JSONPlaceholder\n",
    "url = \"https://jsonplaceholder.typicode.com/comments\"\n",
    "df_json = pd.read_json(url)\n",
    "\n",
    "# Viser de første 5 rækker af de oprindelige data \n",
    "print(df_json.head())"
   ]
  },
  {
   "cell_type": "markdown",
   "id": "23ec5951-ebdf-440e-ae9a-670dd56903cb",
   "metadata": {},
   "source": [
    "## Henting og indlæsning af TXT\n"
   ]
  },
  {
   "cell_type": "code",
   "execution_count": 10,
   "id": "19698f41-d35a-4439-86f7-281b21a4b2dd",
   "metadata": {},
   "outputs": [
    {
     "name": "stdout",
     "output_type": "stream",
     "text": [
      "       word\n",
      "0         2\n",
      "1      1080\n",
      "2        &c\n",
      "3  10-point\n",
      "4      10th\n",
      "5  11-point\n",
      "6  12-point\n",
      "7  16-point\n",
      "8  18-point\n",
      "9       1st\n"
     ]
    }
   ],
   "source": [
    "# URL til ord-fil\n",
    "txt_url = \"https://raw.githubusercontent.com/dwyl/english-words/master/words.txt\"\n",
    "\n",
    "# Læser filen direkte med Pandas\n",
    "txt_data = pd.read_table(txt_url, header=None, names=['word'])\n",
    "\n",
    "# Viser de første 10 ord\n",
    "print(txt_data.head(10))  # Skift fra head() til head(10)"
   ]
  },
  {
   "cell_type": "markdown",
   "id": "1013fc39-8f87-4e79-bb16-07d48a15da22",
   "metadata": {},
   "source": [
    "# Data rensning\n",
    "\n",
    "Fjerner fejl, manglende værdier og irrelevante data for at sikre, at datasættet er nemt læseligt og korrekt til analyse."
   ]
  },
  {
   "cell_type": "markdown",
   "id": "58a3dede-62da-4cd1-a0b0-27e7ba497135",
   "metadata": {},
   "source": [
    "## TXT resning "
   ]
  },
  {
   "cell_type": "code",
   "execution_count": 13,
   "id": "23737a6f-a06e-49b9-943c-f1a935aef922",
   "metadata": {},
   "outputs": [
    {
     "name": "stdout",
     "output_type": "stream",
     "text": [
      " word_position   word  word_length\n",
      "             1      A            1\n",
      "             2     AA            2\n",
      "             3    AAA            3\n",
      "             4   AAAA            4\n",
      "             5 AAAAAA            6\n",
      "             6   AAAL            4\n",
      "             7   AAAS            4\n",
      "             8    AAE            3\n",
      "             9   AAEE            4\n",
      "            10    AAF            3\n"
     ]
    }
   ],
   "source": [
    "# Fjerner NaN-værdier og tomme ord\n",
    "txt_data = txt_data.dropna()  \n",
    "txt_data = txt_data[txt_data['word'].str.strip() != ''] \n",
    "\n",
    "# Fjerner eventuelle ord med specialtegn\n",
    "txt_data['word'] = txt_data['word'].str.replace(r'[^a-zA-Z]', '', regex=True)\n",
    "\n",
    "# Fjerner duplikater\n",
    "txt_data = txt_data.drop_duplicates()\n",
    "\n",
    "# Fjerner eventuelle tomme ord, der kan være i starten eller i slutningen af listen\n",
    "txt_data = txt_data[txt_data['word'].str.strip() != '']\n",
    "\n",
    "# Sætter ordene i alfabetisk rækkefølge og nulstiller index\n",
    "txt_data = txt_data.sort_values(by='word').reset_index(drop=True)\n",
    "\n",
    "# Tilføjer ekstra kolonner for bedre læsbarhed\n",
    "txt_data['word_length'] = txt_data['word'].apply(len)  # Længden af ordet\n",
    "txt_data['word_position'] = txt_data.index + 1  # Rækkefølge af ordet\n",
    "\n",
    "# Omorganiserer kolonnerne, så det ser pænere ud\n",
    "txt_data = txt_data[['word_position', 'word', 'word_length']]\n",
    "\n",
    "# Viser de første 10 ord i et pænt format\n",
    "print(txt_data.head(10).to_string(index=False))  "
   ]
  },
  {
   "cell_type": "markdown",
   "id": "b7ebe8a6-6533-4c32-bc2a-0253a480e443",
   "metadata": {},
   "source": [
    "## JSON rensning"
   ]
  },
  {
   "cell_type": "code",
   "execution_count": 15,
   "id": "1cc8002c-10fe-4ad3-aac5-f6d7c2ce2aea",
   "metadata": {},
   "outputs": [
    {
     "name": "stdout",
     "output_type": "stream",
     "text": [
      "postId: 1    id: 1    name: id labore ex et quam laborum    email: Eliseo@gardner.biz    body: laudantium enim quasi est quidem magnam voluptate ipsam eos tempora quo necessitatibus dolor quam autem quasi reiciendis et nam sapiente accusantium\n",
      "\n",
      "postId: 1    id: 2    name: quo vero reiciendis velit similique earum    email: Jayne_Kuhic@sydney.com    body: est natus enim nihil est dolore omnis voluptatem numquam et omnis occaecati quod ullam at voluptatem error expedita pariatur nihil sint nostrum voluptatem reiciendis et\n",
      "\n",
      "postId: 1    id: 3    name: odio adipisci rerum aut animi    email: Nikita@garfield.biz    body: quia molestiae reprehenderit quasi aspernatur aut expedita occaecati aliquam eveniet laudantium omnis quibusdam delectus saepe quia accusamus maiores nam est cum et ducimus et vero voluptates excepturi deleniti ratione\n",
      "\n",
      "postId: 1    id: 4    name: alias odio sit    email: Lew@alysha.tv    body: non et atque occaecati deserunt quas accusantium unde odit nobis qui voluptatem quia voluptas consequuntur itaque dolor et qui rerum deleniti ut occaecati\n",
      "\n",
      "postId: 1    id: 5    name: vero eaque aliquid doloribus et culpa    email: Hayden@althea.biz    body: harum non quasi et ratione tempore iure ex voluptates in ratione harum architecto fugit inventore cupiditate voluptates magni quo et\n",
      "\n"
     ]
    }
   ],
   "source": [
    "# Fjerner linjeskift i body kolonnen\n",
    "df_json['body'] = df_json['body'].str.replace('\\n', ' ', regex=False)\n",
    "\n",
    "# Dropper eventuelle NaN-værdier (hvis nødvendigt)\n",
    "df_json_cleaned = df_json.dropna()\n",
    "\n",
    "# Sørger for, at 'id' er int\n",
    "df_json_cleaned['id'] = df_json_cleaned['id'].astype(int)\n",
    "\n",
    "# Filtrerer kun data med postId fra 1 til 5\n",
    "df_filtered = df_json_cleaned[df_json_cleaned['postId'].isin([1, 2, 3, 4, 5])]\n",
    "\n",
    "# Filtrerer kun de første 5 rækker af de rensede data\n",
    "df_first_5_json = df_filtered.head(5)\n",
    "\n",
    "# Viser de første 5 rækker af de rensede data med mellemrum mellem kolonnerne\n",
    "for i in range(5):\n",
    "    print(f\"postId: {df_first_5_json.loc[i, 'postId']}    \"\n",
    "          f\"id: {df_first_5_json.loc[i, 'id']}    \"\n",
    "          f\"name: {df_first_5_json.loc[i, 'name']}    \"\n",
    "          f\"email: {df_first_5_json.loc[i, 'email']}    \"\n",
    "          f\"body: {df_first_5_json.loc[i, 'body']}\")\n",
    "    print()  # Denne linje tilføjer et mellemrum (ny linje) mellem hver række\n",
    "\n",
    "# Bruges til visualisering af antal kommentarer per postId\n",
    "post_comment_counts = df_filtered['postId'].value_counts()"
   ]
  },
  {
   "cell_type": "markdown",
   "id": "317ac7de-0caa-4849-85ef-31952f111604",
   "metadata": {},
   "source": [
    "## CSV rensning"
   ]
  },
  {
   "cell_type": "code",
   "execution_count": 17,
   "id": "0656ebd8-473a-4c2e-961e-a4a4b2933d1d",
   "metadata": {},
   "outputs": [
    {
     "name": "stdout",
     "output_type": "stream",
     "text": [
      "  Country  Year    Value\n",
      "0   Aruba  1960  54922.0\n",
      "1   Aruba  1961  55578.0\n",
      "2   Aruba  1962  56320.0\n",
      "3   Aruba  1963  57002.0\n",
      "4   Aruba  1964  57619.0\n"
     ]
    }
   ],
   "source": [
    "# Omformaterer 'Value' til numerisk type, hvis nødvendigt (med 'coerce' for at konvertere ikke-numeriske værdier til NaN)\n",
    "df_csv['Value'] = pd.to_numeric(df_csv['Value'], errors='coerce')\n",
    "\n",
    "# Dropper eventuelle NaN-værdier\n",
    "df_csv_cleaned = df_csv.dropna()\n",
    "\n",
    "# Beholder de nødvendige kolonner (Country Name, Year, Value)\n",
    "df_csv_cleaned = df_csv_cleaned[['Country Name', 'Year', 'Value']]\n",
    "\n",
    "# Laver navnet om fra 'Country Name' til 'Country' da det lyder bedre\n",
    "df_csv_cleaned.rename(columns={'Country Name': 'Country'}, inplace=True)\n",
    "\n",
    "# Viser de første 5 rækker af de rensede data\n",
    "print(df_csv_cleaned.head())\n",
    "\n",
    "# Filtrerer kun de første 5 rækker af datasættet\n",
    "df_first_5_csv = df_csv_cleaned.head(5)"
   ]
  },
  {
   "cell_type": "markdown",
   "id": "233672a8-fd5e-4e51-bc53-47442e119cd4",
   "metadata": {},
   "source": [
    "# Visualisering\n",
    "\n",
    "Vi laver simple visualiseringer af de indlæste data."
   ]
  },
  {
   "cell_type": "markdown",
   "id": "1cc1bdac-8b0b-42e9-928b-43894162d677",
   "metadata": {},
   "source": [
    "## 4.1 Visualisering af CSV Data"
   ]
  },
  {
   "cell_type": "code",
   "execution_count": 20,
   "id": "bfb1ee74-075c-4757-bbeb-6a36c5116357",
   "metadata": {},
   "outputs": [
    {
     "data": {
      "image/png": "[encoded data removed]",
      "text/plain": [
       "<Figure size 1000x600 with 1 Axes>"
      ]
     },
     "metadata": {},
     "output_type": "display_data"
    }
   ],
   "source": [
    "# Visualisering af befolkningstal for Aruba i perioden 1960-1964\n",
    "df_first_5_csv.plot(kind='bar', x='Year', y='Value', figsize=(10,6), title=\"Population of Aruba (1960-1964)\", legend=False)\n",
    "plt.xticks(rotation=0)  \n",
    "plt.ylabel('Population')\n",
    "plt.show()"
   ]
  },
  {
   "cell_type": "markdown",
   "id": "f8c16dc7-28c8-46b0-9315-faaf83173928",
   "metadata": {},
   "source": [
    "## 4.2 Visualisering af JSON Data"
   ]
  },
  {
   "cell_type": "code",
   "execution_count": 22,
   "id": "5086a038-7868-4f73-b0f3-b761e44fbcd6",
   "metadata": {},
   "outputs": [
    {
     "data": {
      "image/png": "[encoded data removed]",
      "text/plain": [
       "<Figure size 1000x600 with 1 Axes>"
      ]
     },
     "metadata": {},
     "output_type": "display_data"
    }
   ],
   "source": [
    "# Visualisering af antal kommentarer per postId\n",
    "post_comment_counts.plot(kind='bar', figsize=(10, 6), title=\"Antal kommentarer per postId (1-5)\")\n",
    "plt.xlabel('PostId')\n",
    "plt.ylabel('Antal kommentarer')\n",
    "plt.xticks(rotation=0)  \n",
    "plt.show()"
   ]
  },
  {
   "cell_type": "markdown",
   "id": "c78b36b6-8156-4010-bc4e-7d640bbb3b90",
   "metadata": {},
   "source": [
    "## 4.3 Visualisering af TXT Data"
   ]
  },
  {
   "cell_type": "code",
   "execution_count": 24,
   "id": "c8e0007e-7db1-4399-a416-0f5ee94f0359",
   "metadata": {
    "scrolled": true
   },
   "outputs": [
    {
     "data": {
      "image/png": "[encoded data removed]",
      "text/plain": [
       "<Figure size 1000x600 with 1 Axes>"
      ]
     },
     "metadata": {},
     "output_type": "display_data"
    }
   ],
   "source": [
    "# Visualisering af ordlængdefordeling for de første 10 ord.\n",
    "plt.figure(figsize=(10, 6))\n",
    "plt.bar(txt_data.head(10)['word_position'], txt_data.head(10)['word_length'])\n",
    "plt.title(\"Word Length Distribution for the First 10 Words\")\n",
    "plt.xlabel(\"Word Position\")\n",
    "plt.ylabel(\"Word Length\")\n",
    "plt.xticks(txt_data.head(10)['word_position']) \n",
    "plt.show()"
   ]
  },
  {
   "cell_type": "markdown",
   "id": "eae8f4cc-ad7a-492f-bcaa-250cafcda66d",
   "metadata": {},
   "source": [
    "# Anonymisering \n",
    "\n",
    "I dette projekt er anonymisering ikke nødvendigt, da der ikke findes følsomme personoplysninger i de brugte datasæt.\n",
    "\n",
    "# Konklusion\n",
    "\n",
    "I dette mini-projekt har vi lavet:\n",
    "\n",
    "- Indlæst data fra tre forskellige filtyper (CSV, JSON, TXT).\n",
    "- Renset og transformeret dataene til pandas DataFrames.\n",
    "- Lavet simple visualiseringer for at analysere dataene."
   ]
  }
 ],
 "metadata": {
  "kernelspec": {
   "display_name": "Python [conda env:base] *",
   "language": "python",
   "name": "conda-base-py"
  },
  "language_info": {
   "codemirror_mode": {
    "name": "ipython",
    "version": 3
   },
   "file_extension": ".py",
   "mimetype": "text/x-python",
   "name": "python",
   "nbconvert_exporter": "python",
   "pygments_lexer": "ipython3",
   "version": "3.12.7"
  }
 },
 "nbformat": 4,
 "nbformat_minor": 5
}
