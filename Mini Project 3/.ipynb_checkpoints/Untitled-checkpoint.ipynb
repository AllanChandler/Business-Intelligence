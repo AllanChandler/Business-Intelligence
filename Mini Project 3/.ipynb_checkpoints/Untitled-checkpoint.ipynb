{
 "cells": [
  {
   "cell_type": "markdown",
   "id": "de169d99-4065-4bd8-a714-9a6258a420c9",
   "metadata": {},
   "source": [
    "# MiniProject-3-TASK 4"
   ]
  },
  {
   "cell_type": "markdown",
   "id": "052850ef-ce01-404d-af11-c9698c9d2d10",
   "metadata": {},
   "source": [
    "# Objective\n",
    "The objective of this mini project is to provide practice in data analysis and prediction by regression,\n",
    "classification and clustering algorithms."
   ]
  },
  {
   "cell_type": "markdown",
   "id": "ccfbef58-d562-439d-bca8-bd7b633668e5",
   "metadata": {},
   "source": [
    "# Problem Statement\n",
    "Attrition is the rate at which employees leave their job. When attrition reaches high levels, it becomes\n",
    "a concern for the company. Therefore, it is important to find out why employees leave, which factors\n",
    "contribute to such significant decision.\n",
    "These and other related questions can be answered by exploration analysis and machine learning\n",
    "from the synthetic data provided by IBM to Kaggle"
   ]
  },
  {
   "cell_type": "code",
   "execution_count": null,
   "id": "c6b62e9b-56e9-4f97-9703-7abb5a17ebae",
   "metadata": {},
   "outputs": [],
   "source": []
  }
 ],
 "metadata": {
  "kernelspec": {
   "display_name": "Python [conda env:base] *",
   "language": "python",
   "name": "conda-base-py"
  },
  "language_info": {
   "codemirror_mode": {
    "name": "ipython",
    "version": 3
   },
   "file_extension": ".py",
   "mimetype": "text/x-python",
   "name": "python",
   "nbconvert_exporter": "python",
   "pygments_lexer": "ipython3",
   "version": "3.12.7"
  }
 },
 "nbformat": 4,
 "nbformat_minor": 5
}
